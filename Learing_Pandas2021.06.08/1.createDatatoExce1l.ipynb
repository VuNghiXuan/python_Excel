{
 "cells": [
  {
   "cell_type": "code",
   "execution_count": 58,
   "source": [
    "import pandas as pd\r\n",
    "import numpy as np"
   ],
   "outputs": [],
   "metadata": {}
  },
  {
   "cell_type": "markdown",
   "source": [
    "Dictionary dataFrame"
   ],
   "metadata": {}
  },
  {
   "cell_type": "code",
   "execution_count": 59,
   "source": [
    "nhap_danhsach ={\r\n",
    "    \"STT\": [1, 2, 3, 4],\r\n",
    "    \"Họ và tên\":  ['Thiên Văn Chức', 'Lỗ Chí', 'Trần Nhất Thời','Tôn Khống Tước'],\r\n",
    "    'Toán': [8, 6, 2, 8],\r\n",
    "    'Lý': [9, 5, 10, 6],\r\n",
    "    'Hóa': [10, 2, 8, 7],\r\n",
    "}"
   ],
   "outputs": [],
   "metadata": {}
  },
  {
   "cell_type": "code",
   "execution_count": 60,
   "source": [
    "nhap_danhsach"
   ],
   "outputs": [
    {
     "output_type": "execute_result",
     "data": {
      "text/plain": [
       "{'STT': [1, 2, 3, 4],\n",
       " 'Họ và tên': ['Thiên Văn Chức',\n",
       "  'Lỗ Chí',\n",
       "  'Trần Nhất Thời',\n",
       "  'Tôn Khống Tước'],\n",
       " 'Toán': [8, 6, 2, 8],\n",
       " 'Lý': [9, 5, 10, 6],\n",
       " 'Hóa': [10, 2, 8, 7]}"
      ]
     },
     "metadata": {},
     "execution_count": 60
    }
   ],
   "metadata": {}
  },
  {
   "cell_type": "code",
   "execution_count": 61,
   "source": [
    "# Tạo ra danh sách thi (danhsach)\r\n",
    "danhsach = pd.DataFrame(nhap_danhsach)\r\n",
    "danhsach"
   ],
   "outputs": [
    {
     "output_type": "execute_result",
     "data": {
      "text/html": [
       "<div>\n",
       "<style scoped>\n",
       "    .dataframe tbody tr th:only-of-type {\n",
       "        vertical-align: middle;\n",
       "    }\n",
       "\n",
       "    .dataframe tbody tr th {\n",
       "        vertical-align: top;\n",
       "    }\n",
       "\n",
       "    .dataframe thead th {\n",
       "        text-align: right;\n",
       "    }\n",
       "</style>\n",
       "<table border=\"1\" class=\"dataframe\">\n",
       "  <thead>\n",
       "    <tr style=\"text-align: right;\">\n",
       "      <th></th>\n",
       "      <th>STT</th>\n",
       "      <th>Họ và tên</th>\n",
       "      <th>Toán</th>\n",
       "      <th>Lý</th>\n",
       "      <th>Hóa</th>\n",
       "    </tr>\n",
       "  </thead>\n",
       "  <tbody>\n",
       "    <tr>\n",
       "      <th>0</th>\n",
       "      <td>1</td>\n",
       "      <td>Thiên Văn Chức</td>\n",
       "      <td>8</td>\n",
       "      <td>9</td>\n",
       "      <td>10</td>\n",
       "    </tr>\n",
       "    <tr>\n",
       "      <th>1</th>\n",
       "      <td>2</td>\n",
       "      <td>Lỗ Chí</td>\n",
       "      <td>6</td>\n",
       "      <td>5</td>\n",
       "      <td>2</td>\n",
       "    </tr>\n",
       "    <tr>\n",
       "      <th>2</th>\n",
       "      <td>3</td>\n",
       "      <td>Trần Nhất Thời</td>\n",
       "      <td>2</td>\n",
       "      <td>10</td>\n",
       "      <td>8</td>\n",
       "    </tr>\n",
       "    <tr>\n",
       "      <th>3</th>\n",
       "      <td>4</td>\n",
       "      <td>Tôn Khống Tước</td>\n",
       "      <td>8</td>\n",
       "      <td>6</td>\n",
       "      <td>7</td>\n",
       "    </tr>\n",
       "  </tbody>\n",
       "</table>\n",
       "</div>"
      ],
      "text/plain": [
       "   STT        Họ và tên  Toán  Lý  Hóa\n",
       "0    1    Thiên Văn Chức      8    9    10\n",
       "1    2           Lỗ Chí      6    5     2\n",
       "2    3  Trần Nhất Thời      2   10     8\n",
       "3    4   Tôn Khống Tước      8    6     7"
      ]
     },
     "metadata": {},
     "execution_count": 61
    }
   ],
   "metadata": {}
  },
  {
   "cell_type": "code",
   "execution_count": 62,
   "source": [
    "# Thêm cột \"Tổng\" và tính tổng số điểm\r\n",
    "danhsach['Tổng']=danhsach['Toán'] + danhsach['Lý'] + danhsach['Hóa']\r\n",
    "danhsach"
   ],
   "outputs": [
    {
     "output_type": "execute_result",
     "data": {
      "text/html": [
       "<div>\n",
       "<style scoped>\n",
       "    .dataframe tbody tr th:only-of-type {\n",
       "        vertical-align: middle;\n",
       "    }\n",
       "\n",
       "    .dataframe tbody tr th {\n",
       "        vertical-align: top;\n",
       "    }\n",
       "\n",
       "    .dataframe thead th {\n",
       "        text-align: right;\n",
       "    }\n",
       "</style>\n",
       "<table border=\"1\" class=\"dataframe\">\n",
       "  <thead>\n",
       "    <tr style=\"text-align: right;\">\n",
       "      <th></th>\n",
       "      <th>STT</th>\n",
       "      <th>Họ và tên</th>\n",
       "      <th>Toán</th>\n",
       "      <th>Lý</th>\n",
       "      <th>Hóa</th>\n",
       "      <th>Tổng</th>\n",
       "    </tr>\n",
       "  </thead>\n",
       "  <tbody>\n",
       "    <tr>\n",
       "      <th>0</th>\n",
       "      <td>1</td>\n",
       "      <td>Thiên Văn Chức</td>\n",
       "      <td>8</td>\n",
       "      <td>9</td>\n",
       "      <td>10</td>\n",
       "      <td>27</td>\n",
       "    </tr>\n",
       "    <tr>\n",
       "      <th>1</th>\n",
       "      <td>2</td>\n",
       "      <td>Lỗ Chí</td>\n",
       "      <td>6</td>\n",
       "      <td>5</td>\n",
       "      <td>2</td>\n",
       "      <td>13</td>\n",
       "    </tr>\n",
       "    <tr>\n",
       "      <th>2</th>\n",
       "      <td>3</td>\n",
       "      <td>Trần Nhất Thời</td>\n",
       "      <td>2</td>\n",
       "      <td>10</td>\n",
       "      <td>8</td>\n",
       "      <td>20</td>\n",
       "    </tr>\n",
       "    <tr>\n",
       "      <th>3</th>\n",
       "      <td>4</td>\n",
       "      <td>Tôn Khống Tước</td>\n",
       "      <td>8</td>\n",
       "      <td>6</td>\n",
       "      <td>7</td>\n",
       "      <td>21</td>\n",
       "    </tr>\n",
       "  </tbody>\n",
       "</table>\n",
       "</div>"
      ],
      "text/plain": [
       "   STT        Họ và tên  Toán  Lý  Hóa  Tổng\n",
       "0    1    Thiên Văn Chức      8    9    10     27\n",
       "1    2           Lỗ Chí      6    5     2     13\n",
       "2    3  Trần Nhất Thời      2   10     8     20\n",
       "3    4   Tôn Khống Tước      8    6     7     21"
      ]
     },
     "metadata": {},
     "execution_count": 62
    }
   ],
   "metadata": {}
  },
  {
   "cell_type": "code",
   "execution_count": 63,
   "source": [
    "# Tạo bảng các môn thi\r\n",
    "mon_thi = pd.DataFrame(danhsach, columns= ['Toán', 'Lý', 'Hóa'])\r\n",
    "mon_thi"
   ],
   "outputs": [
    {
     "output_type": "execute_result",
     "data": {
      "text/html": [
       "<div>\n",
       "<style scoped>\n",
       "    .dataframe tbody tr th:only-of-type {\n",
       "        vertical-align: middle;\n",
       "    }\n",
       "\n",
       "    .dataframe tbody tr th {\n",
       "        vertical-align: top;\n",
       "    }\n",
       "\n",
       "    .dataframe thead th {\n",
       "        text-align: right;\n",
       "    }\n",
       "</style>\n",
       "<table border=\"1\" class=\"dataframe\">\n",
       "  <thead>\n",
       "    <tr style=\"text-align: right;\">\n",
       "      <th></th>\n",
       "      <th>Toán</th>\n",
       "      <th>Lý</th>\n",
       "      <th>Hóa</th>\n",
       "    </tr>\n",
       "  </thead>\n",
       "  <tbody>\n",
       "    <tr>\n",
       "      <th>0</th>\n",
       "      <td>8</td>\n",
       "      <td>9</td>\n",
       "      <td>10</td>\n",
       "    </tr>\n",
       "    <tr>\n",
       "      <th>1</th>\n",
       "      <td>6</td>\n",
       "      <td>5</td>\n",
       "      <td>2</td>\n",
       "    </tr>\n",
       "    <tr>\n",
       "      <th>2</th>\n",
       "      <td>2</td>\n",
       "      <td>10</td>\n",
       "      <td>8</td>\n",
       "    </tr>\n",
       "    <tr>\n",
       "      <th>3</th>\n",
       "      <td>8</td>\n",
       "      <td>6</td>\n",
       "      <td>7</td>\n",
       "    </tr>\n",
       "  </tbody>\n",
       "</table>\n",
       "</div>"
      ],
      "text/plain": [
       "   Toán  Lý  Hóa\n",
       "0      8    9    10\n",
       "1      6    5     2\n",
       "2      2   10     8\n",
       "3      8    6     7"
      ]
     },
     "metadata": {},
     "execution_count": 63
    }
   ],
   "metadata": {}
  },
  {
   "cell_type": "code",
   "execution_count": 64,
   "source": [
    "# Số môn thi (bằng tổng số cột trong danh sách môn thi)\r\n",
    "So_mon = len(mon_thi.columns)\r\n",
    "So_mon"
   ],
   "outputs": [
    {
     "output_type": "execute_result",
     "data": {
      "text/plain": [
       "3"
      ]
     },
     "metadata": {},
     "execution_count": 64
    }
   ],
   "metadata": {}
  },
  {
   "cell_type": "code",
   "execution_count": 65,
   "source": [
    "# Thêm cột \"Trung Bình\" và tính số điểm trung bình\r\n",
    "danhsach['Trung Bình']= danhsach['Tổng'] / So_mon\r\n",
    "danhsach"
   ],
   "outputs": [
    {
     "output_type": "execute_result",
     "data": {
      "text/html": [
       "<div>\n",
       "<style scoped>\n",
       "    .dataframe tbody tr th:only-of-type {\n",
       "        vertical-align: middle;\n",
       "    }\n",
       "\n",
       "    .dataframe tbody tr th {\n",
       "        vertical-align: top;\n",
       "    }\n",
       "\n",
       "    .dataframe thead th {\n",
       "        text-align: right;\n",
       "    }\n",
       "</style>\n",
       "<table border=\"1\" class=\"dataframe\">\n",
       "  <thead>\n",
       "    <tr style=\"text-align: right;\">\n",
       "      <th></th>\n",
       "      <th>STT</th>\n",
       "      <th>Họ và tên</th>\n",
       "      <th>Toán</th>\n",
       "      <th>Lý</th>\n",
       "      <th>Hóa</th>\n",
       "      <th>Tổng</th>\n",
       "      <th>Trung Bình</th>\n",
       "    </tr>\n",
       "  </thead>\n",
       "  <tbody>\n",
       "    <tr>\n",
       "      <th>0</th>\n",
       "      <td>1</td>\n",
       "      <td>Thiên Văn Chức</td>\n",
       "      <td>8</td>\n",
       "      <td>9</td>\n",
       "      <td>10</td>\n",
       "      <td>27</td>\n",
       "      <td>9.000000</td>\n",
       "    </tr>\n",
       "    <tr>\n",
       "      <th>1</th>\n",
       "      <td>2</td>\n",
       "      <td>Lỗ Chí</td>\n",
       "      <td>6</td>\n",
       "      <td>5</td>\n",
       "      <td>2</td>\n",
       "      <td>13</td>\n",
       "      <td>4.333333</td>\n",
       "    </tr>\n",
       "    <tr>\n",
       "      <th>2</th>\n",
       "      <td>3</td>\n",
       "      <td>Trần Nhất Thời</td>\n",
       "      <td>2</td>\n",
       "      <td>10</td>\n",
       "      <td>8</td>\n",
       "      <td>20</td>\n",
       "      <td>6.666667</td>\n",
       "    </tr>\n",
       "    <tr>\n",
       "      <th>3</th>\n",
       "      <td>4</td>\n",
       "      <td>Tôn Khống Tước</td>\n",
       "      <td>8</td>\n",
       "      <td>6</td>\n",
       "      <td>7</td>\n",
       "      <td>21</td>\n",
       "      <td>7.000000</td>\n",
       "    </tr>\n",
       "  </tbody>\n",
       "</table>\n",
       "</div>"
      ],
      "text/plain": [
       "   STT        Họ và tên  Toán  Lý  Hóa  Tổng  Trung Bình\n",
       "0    1    Thiên Văn Chức      8    9    10     27     9.000000\n",
       "1    2           Lỗ Chí      6    5     2     13     4.333333\n",
       "2    3  Trần Nhất Thời      2   10     8     20     6.666667\n",
       "3    4   Tôn Khống Tước      8    6     7     21     7.000000"
      ]
     },
     "metadata": {},
     "execution_count": 65
    }
   ],
   "metadata": {}
  },
  {
   "cell_type": "code",
   "execution_count": 66,
   "source": [
    "# Cách xem dữ liệu cột reung bình\r\n",
    "danhsach['Trung Bình']"
   ],
   "outputs": [
    {
     "output_type": "execute_result",
     "data": {
      "text/plain": [
       "0    9.000000\n",
       "1    4.333333\n",
       "2    6.666667\n",
       "3    7.000000\n",
       "Name: Trung Bình, dtype: float64"
      ]
     },
     "metadata": {},
     "execution_count": 66
    }
   ],
   "metadata": {}
  },
  {
   "cell_type": "code",
   "execution_count": 67,
   "source": [
    "#Thêm cột kết quả: Xét người có điểm TB > 5 thì đậu\r\n",
    "danhsach['Kết Quả'] =np.where(danhsach['Trung Bình']>5,\"Đậu\",\"\") \r\n",
    "danhsach"
   ],
   "outputs": [
    {
     "output_type": "execute_result",
     "data": {
      "text/html": [
       "<div>\n",
       "<style scoped>\n",
       "    .dataframe tbody tr th:only-of-type {\n",
       "        vertical-align: middle;\n",
       "    }\n",
       "\n",
       "    .dataframe tbody tr th {\n",
       "        vertical-align: top;\n",
       "    }\n",
       "\n",
       "    .dataframe thead th {\n",
       "        text-align: right;\n",
       "    }\n",
       "</style>\n",
       "<table border=\"1\" class=\"dataframe\">\n",
       "  <thead>\n",
       "    <tr style=\"text-align: right;\">\n",
       "      <th></th>\n",
       "      <th>STT</th>\n",
       "      <th>Họ và tên</th>\n",
       "      <th>Toán</th>\n",
       "      <th>Lý</th>\n",
       "      <th>Hóa</th>\n",
       "      <th>Tổng</th>\n",
       "      <th>Trung Bình</th>\n",
       "      <th>Kết Quả</th>\n",
       "    </tr>\n",
       "  </thead>\n",
       "  <tbody>\n",
       "    <tr>\n",
       "      <th>0</th>\n",
       "      <td>1</td>\n",
       "      <td>Thiên Văn Chức</td>\n",
       "      <td>8</td>\n",
       "      <td>9</td>\n",
       "      <td>10</td>\n",
       "      <td>27</td>\n",
       "      <td>9.000000</td>\n",
       "      <td>Đậu</td>\n",
       "    </tr>\n",
       "    <tr>\n",
       "      <th>1</th>\n",
       "      <td>2</td>\n",
       "      <td>Lỗ Chí</td>\n",
       "      <td>6</td>\n",
       "      <td>5</td>\n",
       "      <td>2</td>\n",
       "      <td>13</td>\n",
       "      <td>4.333333</td>\n",
       "      <td></td>\n",
       "    </tr>\n",
       "    <tr>\n",
       "      <th>2</th>\n",
       "      <td>3</td>\n",
       "      <td>Trần Nhất Thời</td>\n",
       "      <td>2</td>\n",
       "      <td>10</td>\n",
       "      <td>8</td>\n",
       "      <td>20</td>\n",
       "      <td>6.666667</td>\n",
       "      <td>Đậu</td>\n",
       "    </tr>\n",
       "    <tr>\n",
       "      <th>3</th>\n",
       "      <td>4</td>\n",
       "      <td>Tôn Khống Tước</td>\n",
       "      <td>8</td>\n",
       "      <td>6</td>\n",
       "      <td>7</td>\n",
       "      <td>21</td>\n",
       "      <td>7.000000</td>\n",
       "      <td>Đậu</td>\n",
       "    </tr>\n",
       "  </tbody>\n",
       "</table>\n",
       "</div>"
      ],
      "text/plain": [
       "   STT        Họ và tên  Toán  Lý  Hóa  Tổng  Trung Bình Kết Quả\n",
       "0    1    Thiên Văn Chức      8    9    10     27     9.000000      Đậu\n",
       "1    2           Lỗ Chí      6    5     2     13     4.333333          \n",
       "2    3  Trần Nhất Thời      2   10     8     20     6.666667      Đậu\n",
       "3    4   Tôn Khống Tước      8    6     7     21     7.000000      Đậu"
      ]
     },
     "metadata": {},
     "execution_count": 67
    }
   ],
   "metadata": {}
  },
  {
   "cell_type": "code",
   "execution_count": 68,
   "source": [
    "# Xuất danh sách theo chiều khác\r\n",
    "for row in danhsach.iterrows():\r\n",
    "    print(row)"
   ],
   "outputs": [
    {
     "output_type": "stream",
     "name": "stdout",
     "text": [
      "(0, STT                          1\n",
      "Họ và tên    Thiên Văn Chức\n",
      "Toán                        8\n",
      "Lý                          9\n",
      "Hóa                        10\n",
      "Tổng                       27\n",
      "Trung Bình                9.0\n",
      "Kết Quả                 Đậu\n",
      "Name: 0, dtype: object)\n",
      "(1, STT                   2\n",
      "Họ và tên    Lỗ Chí\n",
      "Toán                 6\n",
      "Lý                   5\n",
      "Hóa                  2\n",
      "Tổng                13\n",
      "Trung Bình    4.333333\n",
      "Kết Quả              \n",
      "Name: 1, dtype: object)\n",
      "(2, STT                            3\n",
      "Họ và tên    Trần Nhất Thời\n",
      "Toán                          2\n",
      "Lý                           10\n",
      "Hóa                           8\n",
      "Tổng                         20\n",
      "Trung Bình             6.666667\n",
      "Kết Quả                   Đậu\n",
      "Name: 2, dtype: object)\n",
      "(3, STT                           4\n",
      "Họ và tên    Tôn Khống Tước\n",
      "Toán                         8\n",
      "Lý                           6\n",
      "Hóa                          7\n",
      "Tổng                        21\n",
      "Trung Bình                 7.0\n",
      "Kết Quả                  Đậu\n",
      "Name: 3, dtype: object)\n"
     ]
    }
   ],
   "metadata": {}
  },
  {
   "cell_type": "code",
   "execution_count": 69,
   "source": [
    "# Sử dụng nhiều điều kiện trong pandas\r\n",
    "# danhsach['Xếp Loại']= danhsach['Trung Bình']<5\r\n",
    "danhsach['Xếp Loại'] = None\r\n",
    "\r\n",
    "for val in danhsach.values:\r\n",
    "    print(val)"
   ],
   "outputs": [
    {
     "output_type": "stream",
     "name": "stdout",
     "text": [
      "[1 'Thiên Văn Chức' 8 9 10 27 9.0 'Đậu' None]\n",
      "[2 'Lỗ Chí' 6 5 2 13 4.333333333333333 '' None]\n",
      "[3 'Trần Nhất Thời' 2 10 8 20 6.666666666666667 'Đậu' None]\n",
      "[4 'Tôn Khống Tước' 8 6 7 21 7.0 'Đậu' None]\n"
     ]
    }
   ],
   "metadata": {}
  },
  {
   "cell_type": "code",
   "execution_count": 70,
   "source": [
    "for i_DS in range(len(danhsach['Trung Bình'])):\r\n",
    "    if danhsach['Trung Bình'][i_DS] <5:\r\n",
    "        danhsach['Xếp Loại'][i_DS]= \"Yếu\";\r\n",
    "    elif danhsach['Trung Bình'][i_DS] <7:\r\n",
    "        danhsach['Xếp Loại'][i_DS]= \"Trung Bình\";\r\n",
    "    elif danhsach['Trung Bình'][i_DS] <8:\r\n",
    "        danhsach['Xếp Loại'][i_DS]= \"Khá\";\r\n",
    "    else: danhsach['Xếp Loại'][i_DS]= \"Giỏi\";\r\n",
    "danhsach\r\n"
   ],
   "outputs": [
    {
     "output_type": "stream",
     "name": "stderr",
     "text": [
      "<ipython-input-70-25450c66d17b>:8: SettingWithCopyWarning: \n",
      "A value is trying to be set on a copy of a slice from a DataFrame\n",
      "\n",
      "See the caveats in the documentation: https://pandas.pydata.org/pandas-docs/stable/user_guide/indexing.html#returning-a-view-versus-a-copy\n",
      "  else: danhsach['Xếp Loại'][i_DS]= \"Giỏi\";\n",
      "<ipython-input-70-25450c66d17b>:3: SettingWithCopyWarning: \n",
      "A value is trying to be set on a copy of a slice from a DataFrame\n",
      "\n",
      "See the caveats in the documentation: https://pandas.pydata.org/pandas-docs/stable/user_guide/indexing.html#returning-a-view-versus-a-copy\n",
      "  danhsach['Xếp Loại'][i_DS]= \"Yếu\";\n",
      "<ipython-input-70-25450c66d17b>:5: SettingWithCopyWarning: \n",
      "A value is trying to be set on a copy of a slice from a DataFrame\n",
      "\n",
      "See the caveats in the documentation: https://pandas.pydata.org/pandas-docs/stable/user_guide/indexing.html#returning-a-view-versus-a-copy\n",
      "  danhsach['Xếp Loại'][i_DS]= \"Trung Bình\";\n",
      "<ipython-input-70-25450c66d17b>:7: SettingWithCopyWarning: \n",
      "A value is trying to be set on a copy of a slice from a DataFrame\n",
      "\n",
      "See the caveats in the documentation: https://pandas.pydata.org/pandas-docs/stable/user_guide/indexing.html#returning-a-view-versus-a-copy\n",
      "  danhsach['Xếp Loại'][i_DS]= \"Khá\";\n"
     ]
    },
    {
     "output_type": "execute_result",
     "data": {
      "text/html": [
       "<div>\n",
       "<style scoped>\n",
       "    .dataframe tbody tr th:only-of-type {\n",
       "        vertical-align: middle;\n",
       "    }\n",
       "\n",
       "    .dataframe tbody tr th {\n",
       "        vertical-align: top;\n",
       "    }\n",
       "\n",
       "    .dataframe thead th {\n",
       "        text-align: right;\n",
       "    }\n",
       "</style>\n",
       "<table border=\"1\" class=\"dataframe\">\n",
       "  <thead>\n",
       "    <tr style=\"text-align: right;\">\n",
       "      <th></th>\n",
       "      <th>STT</th>\n",
       "      <th>Họ và tên</th>\n",
       "      <th>Toán</th>\n",
       "      <th>Lý</th>\n",
       "      <th>Hóa</th>\n",
       "      <th>Tổng</th>\n",
       "      <th>Trung Bình</th>\n",
       "      <th>Kết Quả</th>\n",
       "      <th>Xếp Loại</th>\n",
       "    </tr>\n",
       "  </thead>\n",
       "  <tbody>\n",
       "    <tr>\n",
       "      <th>0</th>\n",
       "      <td>1</td>\n",
       "      <td>Thiên Văn Chức</td>\n",
       "      <td>8</td>\n",
       "      <td>9</td>\n",
       "      <td>10</td>\n",
       "      <td>27</td>\n",
       "      <td>9.000000</td>\n",
       "      <td>Đậu</td>\n",
       "      <td>Giỏi</td>\n",
       "    </tr>\n",
       "    <tr>\n",
       "      <th>1</th>\n",
       "      <td>2</td>\n",
       "      <td>Lỗ Chí</td>\n",
       "      <td>6</td>\n",
       "      <td>5</td>\n",
       "      <td>2</td>\n",
       "      <td>13</td>\n",
       "      <td>4.333333</td>\n",
       "      <td></td>\n",
       "      <td>Yếu</td>\n",
       "    </tr>\n",
       "    <tr>\n",
       "      <th>2</th>\n",
       "      <td>3</td>\n",
       "      <td>Trần Nhất Thời</td>\n",
       "      <td>2</td>\n",
       "      <td>10</td>\n",
       "      <td>8</td>\n",
       "      <td>20</td>\n",
       "      <td>6.666667</td>\n",
       "      <td>Đậu</td>\n",
       "      <td>Trung Bình</td>\n",
       "    </tr>\n",
       "    <tr>\n",
       "      <th>3</th>\n",
       "      <td>4</td>\n",
       "      <td>Tôn Khống Tước</td>\n",
       "      <td>8</td>\n",
       "      <td>6</td>\n",
       "      <td>7</td>\n",
       "      <td>21</td>\n",
       "      <td>7.000000</td>\n",
       "      <td>Đậu</td>\n",
       "      <td>Khá</td>\n",
       "    </tr>\n",
       "  </tbody>\n",
       "</table>\n",
       "</div>"
      ],
      "text/plain": [
       "   STT        Họ và tên  Toán  Lý  Hóa  Tổng  Trung Bình Kết Quả  \\\n",
       "0    1    Thiên Văn Chức      8    9    10     27     9.000000      Đậu   \n",
       "1    2           Lỗ Chí      6    5     2     13     4.333333             \n",
       "2    3  Trần Nhất Thời      2   10     8     20     6.666667      Đậu   \n",
       "3    4   Tôn Khống Tước      8    6     7     21     7.000000      Đậu   \n",
       "\n",
       "    Xếp Loại  \n",
       "0        Giỏi  \n",
       "1         Yếu  \n",
       "2  Trung Bình  \n",
       "3         Khá  "
      ]
     },
     "metadata": {},
     "execution_count": 70
    }
   ],
   "metadata": {}
  },
  {
   "cell_type": "code",
   "execution_count": 71,
   "source": [
    "# Lưu vào file exxel\r\n",
    "danhsach.to_excel('./saveExcel/1.xeploai.xlsx', sheet_name= \"DS_xeploai\", index=False)# header=False"
   ],
   "outputs": [],
   "metadata": {}
  },
  {
   "cell_type": "markdown",
   "source": [
    "* Kỹ thuật tạo 1 dataFrame mới như sau:\r\n",
    "    Cách 1:"
   ],
   "metadata": {}
  },
  {
   "cell_type": "code",
   "execution_count": 72,
   "source": [
    "ds_val = danhsach.values[:,1:5]\r\n",
    "ds_val\r\n"
   ],
   "outputs": [
    {
     "output_type": "execute_result",
     "data": {
      "text/plain": [
       "array([['Thiên Văn Chức', 8, 9, 10],\n",
       "       ['Lỗ Chí', 6, 5, 2],\n",
       "       ['Trần Nhất Thời', 2, 10, 8],\n",
       "       ['Tôn Khống Tước', 8, 6, 7]], dtype=object)"
      ]
     },
     "metadata": {},
     "execution_count": 72
    }
   ],
   "metadata": {}
  },
  {
   "cell_type": "code",
   "execution_count": 73,
   "source": [
    "ds_col = danhsach.columns[1:5]\r\n",
    "ds_col"
   ],
   "outputs": [
    {
     "output_type": "execute_result",
     "data": {
      "text/plain": [
       "Index(['Họ và tên', 'Toán', 'Lý', 'Hóa'], dtype='object')"
      ]
     },
     "metadata": {},
     "execution_count": 73
    }
   ],
   "metadata": {}
  },
  {
   "cell_type": "code",
   "execution_count": 74,
   "source": [
    "ds_new1 = pd.DataFrame(data=ds_val, columns=ds_col)\r\n",
    "ds_new1"
   ],
   "outputs": [
    {
     "output_type": "execute_result",
     "data": {
      "text/html": [
       "<div>\n",
       "<style scoped>\n",
       "    .dataframe tbody tr th:only-of-type {\n",
       "        vertical-align: middle;\n",
       "    }\n",
       "\n",
       "    .dataframe tbody tr th {\n",
       "        vertical-align: top;\n",
       "    }\n",
       "\n",
       "    .dataframe thead th {\n",
       "        text-align: right;\n",
       "    }\n",
       "</style>\n",
       "<table border=\"1\" class=\"dataframe\">\n",
       "  <thead>\n",
       "    <tr style=\"text-align: right;\">\n",
       "      <th></th>\n",
       "      <th>Họ và tên</th>\n",
       "      <th>Toán</th>\n",
       "      <th>Lý</th>\n",
       "      <th>Hóa</th>\n",
       "    </tr>\n",
       "  </thead>\n",
       "  <tbody>\n",
       "    <tr>\n",
       "      <th>0</th>\n",
       "      <td>Thiên Văn Chức</td>\n",
       "      <td>8</td>\n",
       "      <td>9</td>\n",
       "      <td>10</td>\n",
       "    </tr>\n",
       "    <tr>\n",
       "      <th>1</th>\n",
       "      <td>Lỗ Chí</td>\n",
       "      <td>6</td>\n",
       "      <td>5</td>\n",
       "      <td>2</td>\n",
       "    </tr>\n",
       "    <tr>\n",
       "      <th>2</th>\n",
       "      <td>Trần Nhất Thời</td>\n",
       "      <td>2</td>\n",
       "      <td>10</td>\n",
       "      <td>8</td>\n",
       "    </tr>\n",
       "    <tr>\n",
       "      <th>3</th>\n",
       "      <td>Tôn Khống Tước</td>\n",
       "      <td>8</td>\n",
       "      <td>6</td>\n",
       "      <td>7</td>\n",
       "    </tr>\n",
       "  </tbody>\n",
       "</table>\n",
       "</div>"
      ],
      "text/plain": [
       "         Họ và tên Toán Lý Hóa\n",
       "0    Thiên Văn Chức     8   9   10\n",
       "1           Lỗ Chí     6   5    2\n",
       "2  Trần Nhất Thời     2  10    8\n",
       "3   Tôn Khống Tước     8   6    7"
      ]
     },
     "metadata": {},
     "execution_count": 74
    }
   ],
   "metadata": {}
  },
  {
   "cell_type": "markdown",
   "source": [
    "    - Cách 2: Tạo dataFrame mới từ danhsach, phần cột chọn columns theo index cột"
   ],
   "metadata": {}
  },
  {
   "cell_type": "code",
   "execution_count": 75,
   "source": [
    "ds_new2 = pd.DataFrame(data=danhsach, columns= danhsach.columns[1:5])\r\n",
    "ds_new2"
   ],
   "outputs": [
    {
     "output_type": "execute_result",
     "data": {
      "text/html": [
       "<div>\n",
       "<style scoped>\n",
       "    .dataframe tbody tr th:only-of-type {\n",
       "        vertical-align: middle;\n",
       "    }\n",
       "\n",
       "    .dataframe tbody tr th {\n",
       "        vertical-align: top;\n",
       "    }\n",
       "\n",
       "    .dataframe thead th {\n",
       "        text-align: right;\n",
       "    }\n",
       "</style>\n",
       "<table border=\"1\" class=\"dataframe\">\n",
       "  <thead>\n",
       "    <tr style=\"text-align: right;\">\n",
       "      <th></th>\n",
       "      <th>Họ và tên</th>\n",
       "      <th>Toán</th>\n",
       "      <th>Lý</th>\n",
       "      <th>Hóa</th>\n",
       "    </tr>\n",
       "  </thead>\n",
       "  <tbody>\n",
       "    <tr>\n",
       "      <th>0</th>\n",
       "      <td>Thiên Văn Chức</td>\n",
       "      <td>8</td>\n",
       "      <td>9</td>\n",
       "      <td>10</td>\n",
       "    </tr>\n",
       "    <tr>\n",
       "      <th>1</th>\n",
       "      <td>Lỗ Chí</td>\n",
       "      <td>6</td>\n",
       "      <td>5</td>\n",
       "      <td>2</td>\n",
       "    </tr>\n",
       "    <tr>\n",
       "      <th>2</th>\n",
       "      <td>Trần Nhất Thời</td>\n",
       "      <td>2</td>\n",
       "      <td>10</td>\n",
       "      <td>8</td>\n",
       "    </tr>\n",
       "    <tr>\n",
       "      <th>3</th>\n",
       "      <td>Tôn Khống Tước</td>\n",
       "      <td>8</td>\n",
       "      <td>6</td>\n",
       "      <td>7</td>\n",
       "    </tr>\n",
       "  </tbody>\n",
       "</table>\n",
       "</div>"
      ],
      "text/plain": [
       "         Họ và tên  Toán  Lý  Hóa\n",
       "0    Thiên Văn Chức      8    9    10\n",
       "1           Lỗ Chí      6    5     2\n",
       "2  Trần Nhất Thời      2   10     8\n",
       "3   Tôn Khống Tước      8    6     7"
      ]
     },
     "metadata": {},
     "execution_count": 75
    }
   ],
   "metadata": {}
  },
  {
   "cell_type": "markdown",
   "source": [
    "Cách 3: Dùng hàm iloc để lọc số cột yêu cầu theo chỉ định cột bằng list chứa index "
   ],
   "metadata": {}
  },
  {
   "cell_type": "code",
   "execution_count": 76,
   "source": [
    "ds_new3 = danhsach.iloc[:,[1,5,6,7,8]]\r\n",
    "ds_new3"
   ],
   "outputs": [
    {
     "output_type": "execute_result",
     "data": {
      "text/html": [
       "<div>\n",
       "<style scoped>\n",
       "    .dataframe tbody tr th:only-of-type {\n",
       "        vertical-align: middle;\n",
       "    }\n",
       "\n",
       "    .dataframe tbody tr th {\n",
       "        vertical-align: top;\n",
       "    }\n",
       "\n",
       "    .dataframe thead th {\n",
       "        text-align: right;\n",
       "    }\n",
       "</style>\n",
       "<table border=\"1\" class=\"dataframe\">\n",
       "  <thead>\n",
       "    <tr style=\"text-align: right;\">\n",
       "      <th></th>\n",
       "      <th>Họ và tên</th>\n",
       "      <th>Tổng</th>\n",
       "      <th>Trung Bình</th>\n",
       "      <th>Kết Quả</th>\n",
       "      <th>Xếp Loại</th>\n",
       "    </tr>\n",
       "  </thead>\n",
       "  <tbody>\n",
       "    <tr>\n",
       "      <th>0</th>\n",
       "      <td>Thiên Văn Chức</td>\n",
       "      <td>27</td>\n",
       "      <td>9.000000</td>\n",
       "      <td>Đậu</td>\n",
       "      <td>Giỏi</td>\n",
       "    </tr>\n",
       "    <tr>\n",
       "      <th>1</th>\n",
       "      <td>Lỗ Chí</td>\n",
       "      <td>13</td>\n",
       "      <td>4.333333</td>\n",
       "      <td></td>\n",
       "      <td>Yếu</td>\n",
       "    </tr>\n",
       "    <tr>\n",
       "      <th>2</th>\n",
       "      <td>Trần Nhất Thời</td>\n",
       "      <td>20</td>\n",
       "      <td>6.666667</td>\n",
       "      <td>Đậu</td>\n",
       "      <td>Trung Bình</td>\n",
       "    </tr>\n",
       "    <tr>\n",
       "      <th>3</th>\n",
       "      <td>Tôn Khống Tước</td>\n",
       "      <td>21</td>\n",
       "      <td>7.000000</td>\n",
       "      <td>Đậu</td>\n",
       "      <td>Khá</td>\n",
       "    </tr>\n",
       "  </tbody>\n",
       "</table>\n",
       "</div>"
      ],
      "text/plain": [
       "         Họ và tên  Tổng  Trung Bình Kết Quả   Xếp Loại\n",
       "0    Thiên Văn Chức     27     9.000000      Đậu        Giỏi\n",
       "1           Lỗ Chí     13     4.333333                   Yếu\n",
       "2  Trần Nhất Thời     20     6.666667      Đậu  Trung Bình\n",
       "3   Tôn Khống Tước     21     7.000000      Đậu         Khá"
      ]
     },
     "metadata": {},
     "execution_count": 76
    }
   ],
   "metadata": {}
  },
  {
   "cell_type": "markdown",
   "source": [
    "Cách 4: Dùng hàm loc để lọc tên cột yêu cầu "
   ],
   "metadata": {}
  },
  {
   "cell_type": "code",
   "execution_count": 84,
   "source": [
    "ds_new4 = danhsach.loc[1:2,['Họ và tên', 'Trung Bình','Kết Quả', 'Xếp Loại']]\r\n",
    "ds_new4"
   ],
   "outputs": [
    {
     "output_type": "execute_result",
     "data": {
      "text/html": [
       "<div>\n",
       "<style scoped>\n",
       "    .dataframe tbody tr th:only-of-type {\n",
       "        vertical-align: middle;\n",
       "    }\n",
       "\n",
       "    .dataframe tbody tr th {\n",
       "        vertical-align: top;\n",
       "    }\n",
       "\n",
       "    .dataframe thead th {\n",
       "        text-align: right;\n",
       "    }\n",
       "</style>\n",
       "<table border=\"1\" class=\"dataframe\">\n",
       "  <thead>\n",
       "    <tr style=\"text-align: right;\">\n",
       "      <th></th>\n",
       "      <th>Họ và tên</th>\n",
       "      <th>Trung Bình</th>\n",
       "      <th>Kết Quả</th>\n",
       "      <th>Xếp Loại</th>\n",
       "    </tr>\n",
       "  </thead>\n",
       "  <tbody>\n",
       "    <tr>\n",
       "      <th>1</th>\n",
       "      <td>Lỗ Chí</td>\n",
       "      <td>4.333333</td>\n",
       "      <td></td>\n",
       "      <td>Yếu</td>\n",
       "    </tr>\n",
       "    <tr>\n",
       "      <th>2</th>\n",
       "      <td>Trần Nhất Thời</td>\n",
       "      <td>6.666667</td>\n",
       "      <td>Đậu</td>\n",
       "      <td>Trung Bình</td>\n",
       "    </tr>\n",
       "  </tbody>\n",
       "</table>\n",
       "</div>"
      ],
      "text/plain": [
       "         Họ và tên  Trung Bình Kết Quả   Xếp Loại\n",
       "1           Lỗ Chí     4.333333                   Yếu\n",
       "2  Trần Nhất Thời     6.666667      Đậu  Trung Bình"
      ]
     },
     "metadata": {},
     "execution_count": 84
    }
   ],
   "metadata": {}
  },
  {
   "cell_type": "code",
   "execution_count": null,
   "source": [],
   "outputs": [],
   "metadata": {}
  }
 ],
 "metadata": {
  "orig_nbformat": 4,
  "language_info": {
   "name": "python",
   "version": "3.9.2",
   "mimetype": "text/x-python",
   "codemirror_mode": {
    "name": "ipython",
    "version": 3
   },
   "pygments_lexer": "ipython3",
   "nbconvert_exporter": "python",
   "file_extension": ".py"
  },
  "kernelspec": {
   "name": "python3",
   "display_name": "Python 3.9.2 64-bit"
  },
  "interpreter": {
   "hash": "cf6663ca35ebd57d6121109460e534e72c1e1f8ff142ad985cdcb4b7e585eb79"
  }
 },
 "nbformat": 4,
 "nbformat_minor": 2
}